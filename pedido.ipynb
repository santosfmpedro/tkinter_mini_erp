{
 "cells": [
  {
   "cell_type": "code",
   "execution_count": 2,
   "metadata": {},
   "outputs": [],
   "source": [
    "from tkinter import *\n",
    "from tkinter.ttk import *\n",
    "\n",
    "from tkinter import messagebox\n"
   ]
  },
  {
   "cell_type": "code",
   "execution_count": 3,
   "metadata": {},
   "outputs": [],
   "source": [
    "window = Tk()\n",
    "\n",
    "window.title(\"Welcome to LikeGeeks app\")\n",
    "\n",
    "window.geometry('550x200')\n",
    "\n",
    "width_grid = 20\n",
    "\n",
    "start_row = 4\n",
    "column_label = 1\n",
    "column_entry = 3\n",
    "\n",
    "label_client_name = Label(window, text=\"Nome Cliente:\")\n",
    "label_client_name.grid(column=column_label, row=start_row)\n",
    "entry_client_name = Entry(window,width=width_grid)\n",
    "entry_client_name.grid(column=column_entry, row=start_row)\n",
    "\n",
    "label_day_party = Label(window, text=\"Dia Festa:\")\n",
    "label_day_party.grid(column=column_label, row=start_row+1)\n",
    "entry_day_party = Entry(window,width=width_grid)\n",
    "entry_day_party.grid(column=column_entry, row=start_row+1)\n",
    "\n",
    "label_day_ticket = Label(window, text=\"Dia Pedido:\")\n",
    "label_day_ticket.grid(column=column_label, row=start_row+2)\n",
    "entry_day_ticket = Entry(window,width=width_grid)\n",
    "entry_day_ticket.grid(column=column_entry, row=start_row+2)\n",
    "\n",
    "label_start_hour = Label(window, text=\"Horário Início:\")\n",
    "label_start_hour.grid(column=column_label, row=start_row+3)\n",
    "entry_start_hour = Entry(window,width=width_grid)\n",
    "entry_start_hour.grid(column=column_entry, row=start_row+3)\n",
    "\n",
    "label_end_hour = Label(window, text=\"Horário Fim:\")\n",
    "label_end_hour.grid(column=column_label, row=start_row+4)\n",
    "entry_end_hour = Entry(window,width=width_grid)\n",
    "entry_end_hour.grid(column=column_entry, row=start_row+4)\n",
    "\n",
    "label_resp = Label(window, text=\"Responsável:\")\n",
    "label_resp.grid(column=column_label, row=start_row+5)\n",
    "entry_resp = Entry(window,width=width_grid)\n",
    "entry_resp.grid(column=column_entry, row=start_row+5)\n",
    "\n",
    "def clicked():\n",
    "    btn.configure(text=\"Pedido Salvo!!\")\n",
    "\n",
    "def clicked():\n",
    "    btn.configure(text=\"Pedido Salvo!!\")\n",
    "\n",
    "btn = Button(window, text=\"Salvar Pedido\", command=clicked)\n",
    "btn.grid(column=2, row=10)\n",
    "\n",
    "btn = Button(window, text=\"Salvar Pedido\", command=clicked)\n",
    "btn.grid(column=2, row=10)\n",
    "\n",
    "window.mainloop()"
   ]
  },
  {
   "cell_type": "code",
   "execution_count": 5,
   "metadata": {},
   "outputs": [],
   "source": [
    "import pandas as pd"
   ]
  },
  {
   "cell_type": "code",
   "execution_count": 4,
   "metadata": {},
   "outputs": [
    {
     "name": "stdout",
     "output_type": "stream",
     "text": [
      "Possuimos Valores em Branco!\n"
     ]
    }
   ],
   "source": [
    "## JANELA DE CADASTRAR O PRODUTO \n",
    "\n",
    "window = Tk()\n",
    "\n",
    "window.title(\"CADASTRO DE PRODUTOS\")\n",
    "\n",
    "window.geometry('750x300')\n",
    "\n",
    "width_grid = 20\n",
    "\n",
    "start_row = 0\n",
    "column_label = 1\n",
    "column_entry = 3\n",
    "\n",
    "label_product_name = Label(window, text=\"Nome Produto:\")\n",
    "label_product_name.grid(column=column_label, row=start_row)\n",
    "entry_product_name = Entry(window,width=width_grid)\n",
    "entry_product_name.grid(column=column_entry, row=start_row)\n",
    "\n",
    "label_brand = Label(window, text=\"Marca Produto:\")\n",
    "label_brand.grid(column=column_label, row=start_row+1)\n",
    "entry_brand = Entry(window,width=width_grid)\n",
    "entry_brand.grid(column=column_entry, row=start_row+1)\n",
    "\n",
    "label_day_aquisition = Label(window, text=\"Dia Aquisição:\")\n",
    "label_day_aquisition.grid(column=column_label, row=start_row+2)\n",
    "entry_day_aquisition = Entry(window,width=width_grid)\n",
    "entry_day_aquisition.grid(column=column_entry, row=start_row+2)\n",
    "\n",
    "label_weight = Label(window, text=\"Peso:\")\n",
    "label_weight.grid(column=column_label, row=start_row+3)\n",
    "entry_weight = Entry(window,width=width_grid)\n",
    "entry_weight.grid(column=column_entry, row=start_row+3)\n",
    "\n",
    "label_price = Label(window, text=\"Preço Compra:\")\n",
    "label_price.grid(column=column_label, row=start_row+4)\n",
    "entry_price = Entry(window,width=width_grid)\n",
    "entry_price.grid(column=column_entry, row=start_row+4)\n",
    "\n",
    "label_price_rent = Label(window, text=\"Preço Aluguel:\")\n",
    "label_price_rent.grid(column=column_label, row=start_row+5)\n",
    "entry_price_rent = Entry(window,width=width_grid)\n",
    "entry_price_rent.grid(column=column_entry, row=start_row+5)\n",
    "\n",
    "label_type = Label(window, text=\"Tipo:\")\n",
    "label_type.grid(column=column_label, row=start_row+6)\n",
    "entry_type = Entry(window,width=width_grid)\n",
    "entry_type.grid(column=column_entry, row=start_row+6)\n",
    "\n",
    "label_group = Label(window, text=\"Grupo:\")\n",
    "label_group.grid(column=column_label, row=start_row+7)\n",
    "entry_group = Entry(window,width=width_grid)\n",
    "entry_group.grid(column=column_entry, row=start_row+7)\n",
    "\n",
    "def clicked():\n",
    "    btn.configure(text=\"Pedido Salvo!!\")\n",
    "\n",
    "def clear():\n",
    "    [widget.delete(0, END) for widget in window.winfo_children() if isinstance(widget, Entry)]\n",
    "\n",
    "def save_products():\n",
    "    product = {\"entry_product_name\":entry_product_name.get(),\n",
    "               \"entry_brand\":entry_brand.get(),\n",
    "               \"entry_day_aquisition\":entry_day_aquisition.get(),\n",
    "               \"entry_weight\":entry_weight.get(),\n",
    "               \"entry_price\":entry_price.get(),\n",
    "               \"entry_price_rent\":entry_price_rent.get(),\n",
    "               \"entry_type\":entry_type.get(),\n",
    "               \"entry_group\":entry_group.get()}\n",
    "    \n",
    "    nulls = 0\n",
    "\n",
    "    for i in product:\n",
    "        if len(product[i]) == 0 :\n",
    "            nulls+=1\n",
    "    \n",
    "    if nulls==0:\n",
    "        [widget.delete(0, END) for widget in window.winfo_children() if isinstance(widget, Entry)]\n",
    "        messagebox.showinfo('PRODUTO REGISTRADO COM SUCESSO',f'{product}')\n",
    "    else:\n",
    "        print('Possuimos Valores em Branco!')\n",
    "        nulls = 0\n",
    "\n",
    "    save_product = pd.DataFrame(product)\n",
    "\n",
    "btn = Button(window, text=\"Salvar Produto\", command=save_products)\n",
    "btn.grid(column=2, row=10)\n",
    "\n",
    "window.mainloop()"
   ]
  },
  {
   "cell_type": "code",
   "execution_count": null,
   "metadata": {},
   "outputs": [],
   "source": [
    "\n"
   ]
  },
  {
   "cell_type": "code",
   "execution_count": 10,
   "metadata": {},
   "outputs": [],
   "source": [
    "product = {\"entry_product_name\": ['Caixa Ativa'],\n",
    "               \"entry_brand\": ['asd'],               \n",
    "                \"entry_day_aquisition\": ['asdsdasd'],\n",
    "               \"entry_weight\": ['asdsadasd'],\n",
    "               \"entry_price\": ['ds'],\n",
    "               \"entry_price_rent\": ['dasdasdasd'],\n",
    "               \"entry_type\": ['a'],\n",
    "               \"entry_group\": ['dd']}"
   ]
  },
  {
   "cell_type": "code",
   "execution_count": 11,
   "metadata": {},
   "outputs": [
    {
     "data": {
      "text/plain": [
       "{'entry_product_name': ['Caixa Ativa'],\n",
       " 'entry_brand': ['asd'],\n",
       " 'entry_day_aquisition': ['asdsdasd'],\n",
       " 'entry_weight': ['asdsadasd'],\n",
       " 'entry_price': ['ds'],\n",
       " 'entry_price_rent': ['dasdasdasd'],\n",
       " 'entry_type': ['a'],\n",
       " 'entry_group': ['dd']}"
      ]
     },
     "execution_count": 11,
     "metadata": {},
     "output_type": "execute_result"
    }
   ],
   "source": [
    "product"
   ]
  },
  {
   "cell_type": "code",
   "execution_count": 8,
   "metadata": {},
   "outputs": [],
   "source": [
    "import pandas as pd"
   ]
  },
  {
   "cell_type": "code",
   "execution_count": 12,
   "metadata": {},
   "outputs": [],
   "source": [
    "save_product = pd.DataFrame(product)"
   ]
  },
  {
   "cell_type": "code",
   "execution_count": 13,
   "metadata": {},
   "outputs": [
    {
     "data": {
      "text/html": [
       "<div>\n",
       "<style scoped>\n",
       "    .dataframe tbody tr th:only-of-type {\n",
       "        vertical-align: middle;\n",
       "    }\n",
       "\n",
       "    .dataframe tbody tr th {\n",
       "        vertical-align: top;\n",
       "    }\n",
       "\n",
       "    .dataframe thead th {\n",
       "        text-align: right;\n",
       "    }\n",
       "</style>\n",
       "<table border=\"1\" class=\"dataframe\">\n",
       "  <thead>\n",
       "    <tr style=\"text-align: right;\">\n",
       "      <th></th>\n",
       "      <th>entry_product_name</th>\n",
       "      <th>entry_brand</th>\n",
       "      <th>entry_day_aquisition</th>\n",
       "      <th>entry_weight</th>\n",
       "      <th>entry_price</th>\n",
       "      <th>entry_price_rent</th>\n",
       "      <th>entry_type</th>\n",
       "      <th>entry_group</th>\n",
       "    </tr>\n",
       "  </thead>\n",
       "  <tbody>\n",
       "    <tr>\n",
       "      <th>0</th>\n",
       "      <td>Caixa Ativa</td>\n",
       "      <td>asd</td>\n",
       "      <td>asdsdasd</td>\n",
       "      <td>asdsadasd</td>\n",
       "      <td>ds</td>\n",
       "      <td>dasdasdasd</td>\n",
       "      <td>a</td>\n",
       "      <td>dd</td>\n",
       "    </tr>\n",
       "  </tbody>\n",
       "</table>\n",
       "</div>"
      ],
      "text/plain": [
       "  entry_product_name entry_brand entry_day_aquisition entry_weight  \\\n",
       "0        Caixa Ativa         asd             asdsdasd    asdsadasd   \n",
       "\n",
       "  entry_price entry_price_rent entry_type entry_group  \n",
       "0          ds       dasdasdasd          a          dd  "
      ]
     },
     "execution_count": 13,
     "metadata": {},
     "output_type": "execute_result"
    }
   ],
   "source": [
    "save_product"
   ]
  },
  {
   "cell_type": "code",
   "execution_count": 15,
   "metadata": {},
   "outputs": [],
   "source": [
    "## libraries\n",
    "import requests\n",
    "from bs4 import BeautifulSoup\n",
    "import pandas as pd\n",
    "import time\n",
    "import re\n",
    "import os\n",
    "import fastparquet as fp\n",
    "import os\n",
    "import pandas as pd\n",
    "import logging\n",
    "import random\n",
    "\n",
    "logging.basicConfig(level=logging.INFO, filename=\"logs.log\", format=\"%(asctime)s - %(levelname)s - %(message)s\")\n",
    "\n",
    "main_url = 'https://lista.mercadolivre.com.br/iphone-13s-pro-max' ## website \n",
    "products_per_page = 50 ## products per page\n",
    "filepath_products = 'data/products.parquet'  ## save data local \n",
    "seconds_wait = 2 ## seconds to not overcharge requests\n",
    "\n",
    "headers={'User-Agent': 'Mozilla/5.0 (Windows NT 10.0; Win64; x64) AppleWebKit/537.36 (KHTML, like Gecko) Chrome/102.0.0.0 Safari/537.36'}\n",
    "\n",
    "\n",
    "def write_append_parquet(filepath, df):\n",
    "    if os.path.isfile(filepath) == True: ## check if parquet already exists\n",
    "        fp.write(filepath, df,append = True) ## if, only append rows\n",
    "    else:\n",
    "        fp.write(filepath, df) ## if not exists, create parquet"
   ]
  },
  {
   "cell_type": "code",
   "execution_count": 18,
   "metadata": {},
   "outputs": [],
   "source": [
    "write_append_parquet('data/products.parquet', save_product)"
   ]
  }
 ],
 "metadata": {
  "kernelspec": {
   "display_name": "Python 3",
   "language": "python",
   "name": "python3"
  },
  "language_info": {
   "codemirror_mode": {
    "name": "ipython",
    "version": 3
   },
   "file_extension": ".py",
   "mimetype": "text/x-python",
   "name": "python",
   "nbconvert_exporter": "python",
   "pygments_lexer": "ipython3",
   "version": "3.10.10"
  },
  "orig_nbformat": 4
 },
 "nbformat": 4,
 "nbformat_minor": 2
}
